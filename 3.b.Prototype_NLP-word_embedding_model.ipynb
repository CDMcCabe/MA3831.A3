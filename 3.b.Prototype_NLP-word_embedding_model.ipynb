{
 "cells": [
  {
   "cell_type": "code",
   "execution_count": 1,
   "metadata": {},
   "outputs": [
    {
     "name": "stdout",
     "output_type": "stream",
     "text": [
      "Length of corpus: 33778\n"
     ]
    }
   ],
   "source": [
    "import string\n",
    "import numpy as np\n",
    "import pandas as pd\n",
    "from keras.models import Sequential\n",
    "from keras.layers import Dense\n",
    "from keras.layers import Dropout\n",
    "from keras.layers import LSTM\n",
    "from keras.utils import np_utils\n",
    "\n",
    "# Load data\n",
    "df = pd.read_csv(\"stories.csv\", encoding='utf-8')\n",
    "story_list = df.stories.to_list()\n",
    "texts = ''.join(story_list[0:1])\n",
    "# text = ''.join(filter(lambda x: x in string.printable, texts))\n",
    "# test = ''.join([x for x in text if x in string.printable])\n",
    "text = [[char for char in text if char in string.printable] for text in texts]\n",
    "# print(f'Corpus Length: {len(text)}')\n",
    "text = ''.join([j for i in text for j in i])\n",
    "print(f'Length of corpus: {len(text)}')"
   ]
  },
  {
   "cell_type": "code",
   "execution_count": 2,
   "metadata": {},
   "outputs": [
    {
     "name": "stdout",
     "output_type": "stream",
     "text": [
      "1976\n"
     ]
    }
   ],
   "source": [
    "# Creating character / word mappings\n",
    "\n",
    "# Word mappings\n",
    "words = sorted(list(set(text.split())))\n",
    "print(len(words))\n",
    "\n",
    "n_to_word = {n:word for n, word in enumerate(words)}\n",
    "word_to_n = {word:n for n, word in enumerate(words)}"
   ]
  },
  {
   "cell_type": "code",
   "execution_count": 3,
   "metadata": {},
   "outputs": [],
   "source": [
    "# Data Preprocessing\n",
    "X = []\n",
    "Y = []\n",
    "\n",
    "length = len(text.split())\n",
    "seq_length = 100\n",
    "\n",
    "for i in range(0, length-seq_length, 1):\n",
    "    sequence = text.split()[i:i + seq_length]\n",
    "    label = text.split()[i + seq_length]\n",
    "    X.append([word_to_n[word] for word in sequence])\n",
    "    Y.append(word_to_n[label])"
   ]
  },
  {
   "cell_type": "code",
   "execution_count": 4,
   "metadata": {},
   "outputs": [],
   "source": [
    "X_modified = np.reshape(X, (len(X), seq_length, 1))\n",
    "X_modified = X_modified/float(len(words))\n",
    "Y_modified = np_utils.to_categorical(Y)"
   ]
  },
  {
   "cell_type": "code",
   "execution_count": 14,
   "metadata": {},
   "outputs": [
    {
     "name": "stdout",
     "output_type": "stream",
     "text": [
      "Model: \"sequential_5\"\n",
      "_________________________________________________________________\n",
      "Layer (type)                 Output Shape              Param #   \n",
      "=================================================================\n",
      "lstm_10 (LSTM)               (None, 100, 100)          40800     \n",
      "_________________________________________________________________\n",
      "dropout_10 (Dropout)         (None, 100, 100)          0         \n",
      "_________________________________________________________________\n",
      "lstm_11 (LSTM)               (None, 100)               80400     \n",
      "_________________________________________________________________\n",
      "dropout_11 (Dropout)         (None, 100)               0         \n",
      "_________________________________________________________________\n",
      "dense_5 (Dense)              (None, 1976)              199576    \n",
      "=================================================================\n",
      "Total params: 320,776\n",
      "Trainable params: 320,776\n",
      "Non-trainable params: 0\n",
      "_________________________________________________________________\n"
     ]
    }
   ],
   "source": [
    "# Baseline Model\n",
    "model = Sequential()\n",
    "model.add(LSTM(100, input_shape=(X_modified.shape[1], X_modified.shape[2]), return_sequences=True))\n",
    "model.add(Dropout(0.2))\n",
    "model.add(LSTM(100))\n",
    "model.add(Dropout(0.2))\n",
    "model.add(Dense(Y_modified.shape[1], activation='softmax'))\n",
    "model.summary()\n",
    "\n",
    "model.compile(loss='categorical_crossentropy', optimizer='adam', metrics=['accuracy'])"
   ]
  },
  {
   "cell_type": "code",
   "execution_count": 15,
   "metadata": {},
   "outputs": [
    {
     "name": "stdout",
     "output_type": "stream",
     "text": [
      "Epoch 1/10\n",
      "63/63 [==============================] - 12s 142ms/step - loss: 7.2468 - accuracy: 0.0315\n",
      "Epoch 2/10\n",
      "63/63 [==============================] - 10s 159ms/step - loss: 6.4911 - accuracy: 0.0414\n",
      "Epoch 3/10\n",
      "63/63 [==============================] - 10s 157ms/step - loss: 6.4293 - accuracy: 0.0457\n",
      "Epoch 4/10\n",
      "63/63 [==============================] - 10s 157ms/step - loss: 6.4360 - accuracy: 0.0386\n",
      "Epoch 5/10\n",
      "63/63 [==============================] - 10s 156ms/step - loss: 6.4480 - accuracy: 0.0415\n",
      "Epoch 6/10\n",
      "63/63 [==============================] - 10s 156ms/step - loss: 6.4170 - accuracy: 0.0423\n",
      "Epoch 7/10\n",
      "63/63 [==============================] - 10s 157ms/step - loss: 6.4109 - accuracy: 0.0405\n",
      "Epoch 8/10\n",
      "63/63 [==============================] - 10s 157ms/step - loss: 6.4216 - accuracy: 0.0417\n",
      "Epoch 9/10\n",
      "63/63 [==============================] - 10s 158ms/step - loss: 6.4083 - accuracy: 0.0451\n",
      "Epoch 10/10\n",
      "63/63 [==============================] - 10s 156ms/step - loss: 6.4592 - accuracy: 0.0419\n"
     ]
    }
   ],
   "source": [
    "from keras import backend as K\n",
    "\n",
    "# Fit Model\n",
    "model.fit(X_modified, Y_modified, epochs=10, batch_size=100)\n",
    "\n",
    "filename = '700_0.2_700_0.2e10_b100.h5'\n",
    "model.save_weights(filename)"
   ]
  },
  {
   "cell_type": "code",
   "execution_count": null,
   "metadata": {},
   "outputs": [],
   "source": [
    "# Generate texts with last saved fit\n",
    "model.load_weights(filename)\n",
    "\n",
    "string_mapped = X[99]\n",
    "full_string = [n_to_word[value] for value in string_mapped]\n",
    "\n",
    "# Generation\n",
    "for i in range(100):\n",
    "    x = np.reshape(string_mapped, (1, len(string_mapped), 1))\n",
    "    x = x / float(len(words))\n",
    "    \n",
    "    pred_index = np.argmax(model.predict(x, verbose = 0))\n",
    "    seq = [n_to_word[value] for value in string_mapped]\n",
    "    full_string.append(n_to_word[pred_index])\n",
    "    \n",
    "    string_mapped.append(pred_index)\n",
    "    string_mapped = string_mapped[1:len(string_mapped)]\n",
    "    \n",
    "# Combine generated text and output\n",
    "txt = \"\"\n",
    "for word in full_string[100:]:\n",
    "    txt = txt+' '+word\n",
    "print(txt)"
   ]
  },
  {
   "cell_type": "code",
   "execution_count": null,
   "metadata": {},
   "outputs": [],
   "source": []
  }
 ],
 "metadata": {
  "kernelspec": {
   "display_name": "Python 3",
   "language": "python",
   "name": "python3"
  },
  "language_info": {
   "codemirror_mode": {
    "name": "ipython",
    "version": 3
   },
   "file_extension": ".py",
   "mimetype": "text/x-python",
   "name": "python",
   "nbconvert_exporter": "python",
   "pygments_lexer": "ipython3",
   "version": "3.8.5"
  }
 },
 "nbformat": 4,
 "nbformat_minor": 4
}
